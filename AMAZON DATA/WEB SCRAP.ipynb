{
 "cells": [
  {
   "cell_type": "markdown",
   "id": "f6c22d98",
   "metadata": {},
   "source": [
    "## Importing the important Libraries"
   ]
  },
  {
   "cell_type": "code",
   "execution_count": 1,
   "id": "6bf45ce6",
   "metadata": {},
   "outputs": [],
   "source": [
    "from tqdm import tqdm\n",
    "import pandas as pd\n",
    "import numpy as np\n",
    "from tqdm import tqdm\n",
    "import requests\n",
    "import time\n",
    "\n",
    "from bs4 import BeautifulSoup\n",
    "from selenium import webdriver"
   ]
  },
  {
   "cell_type": "code",
   "execution_count": null,
   "id": "3a072d84",
   "metadata": {},
   "outputs": [],
   "source": [
    "## Importing the links and "
   ]
  },
  {
   "cell_type": "code",
   "execution_count": 39,
   "id": "2ecec3ca",
   "metadata": {},
   "outputs": [],
   "source": [
    "import time\n",
    "from tqdm import tqdm\n",
    "links = [link,link1,link2,link3]\n",
    "data = []\n",
    "for url in tqdm(links):\n",
    "    options = webdriver.EdgeOptions()\n",
    "    driver = webdriver.Edge(options=options)\n",
    "    driver.get(url)\n",
    "    soup = BeautifulSoup(driver.page_source, 'html.parser')\n",
    "    time.sleep(5)\n",
    "    \n",
    "    for sp2 in soup.find_all(\"div\",class_=\"sg-col-4-of-24 sg-col-4-of-12 s-result-item s-asin sg-col-4-of-16 sg-col s-widget-spacing-small sg-col-4-of-20\"):\n",
    "    # We are using try and except because If not found it will return to None\n",
    "        try:\n",
    "            Company = sp2.find(\"span\",class_=\"a-size-base-plus a-color-base\").text\n",
    "        except:\n",
    "            None\n",
    "        try:\n",
    "            OGPrice = sp2.find(\"div\",class_=\"a-section a-spacing-none a-spacing-top-small s-price-instructions-style\").find_all(\"span\")[-4].text[1:]\n",
    "        except:\n",
    "            None\n",
    "        try:\n",
    "            DPRice = sp2.find(\"div\",class_=\"a-section a-spacing-none a-spacing-top-small s-price-instructions-style\").find_all(\"span\")[4].text\n",
    "        except:\n",
    "            None\n",
    "        try:\n",
    "            Discount = sp2.find(\"div\",class_=\"a-section a-spacing-none a-spacing-top-small s-price-instructions-style\").find_all(\"span\")[-1].text[1:3]\n",
    "        except:\n",
    "            None\n",
    "        try:\n",
    "            Prlink = sp2.find(\"a\",class_=\"a-link-normal s-underline-text s-underline-link-text s-link-style\").get(\"href\")\n",
    "        except:\n",
    "            None\n",
    "        try:\n",
    "            Rating = sp2.find(\"span\",class_=\"a-size-base puis-bold-weight-text\").text\n",
    "        except:\n",
    "            None\n",
    "        \n",
    "        data.append([Company,OGPrice,DPRice,Discount,link,Rating])\n",
    "        "
   ]
  },
  {
   "cell_type": "code",
   "execution_count": 42,
   "id": "a44ad569",
   "metadata": {},
   "outputs": [],
   "source": [
    "df = pd.DataFrame(data,columns=[\"Company\",\"OGPrice\",\"DPrice\",\"Discount\",\"Link\",\"Rating\"])"
   ]
  },
  {
   "cell_type": "code",
   "execution_count": 43,
   "id": "6868ffb0",
   "metadata": {},
   "outputs": [],
   "source": [
    "df.to_csv(\"Finaldata.csv\",index=False)"
   ]
  },
  {
   "cell_type": "code",
   "execution_count": null,
   "id": "2bf67cf2",
   "metadata": {},
   "outputs": [],
   "source": []
  }
 ],
 "metadata": {
  "kernelspec": {
   "display_name": "Python 3 (ipykernel)",
   "language": "python",
   "name": "python3"
  },
  "language_info": {
   "codemirror_mode": {
    "name": "ipython",
    "version": 3
   },
   "file_extension": ".py",
   "mimetype": "text/x-python",
   "name": "python",
   "nbconvert_exporter": "python",
   "pygments_lexer": "ipython3",
   "version": "3.10.9"
  }
 },
 "nbformat": 4,
 "nbformat_minor": 5
}
